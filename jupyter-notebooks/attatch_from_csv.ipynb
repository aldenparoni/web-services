{
 "cells": [
  {
   "attachments": {},
   "cell_type": "markdown",
   "metadata": {},
   "source": [
    "import libraries"
   ]
  },
  {
   "cell_type": "code",
   "execution_count": 1,
   "metadata": {},
   "outputs": [],
   "source": [
    "from unifier_requests.ur_bp_attach import attach_from_csv"
   ]
  },
  {
   "attachments": {},
   "cell_type": "markdown",
   "metadata": {},
   "source": [
    "setup variables"
   ]
  },
  {
   "cell_type": "code",
   "execution_count": 21,
   "metadata": {},
   "outputs": [],
   "source": [
    "csv_path = r'C:\\Users\\alden.paroni\\uxpr-csv-attach\\MM991\\MM991-uxpr-attach.csv'\n",
    "env = 'prod'"
   ]
  },
  {
   "attachments": {},
   "cell_type": "markdown",
   "metadata": {},
   "source": [
    "upload"
   ]
  },
  {
   "cell_type": "code",
   "execution_count": null,
   "metadata": {},
   "outputs": [],
   "source": [
    "attach_from_csv(env = env, csv_path = csv_path)"
   ]
  },
  {
   "cell_type": "markdown",
   "metadata": {},
   "source": [
    "CSV columns:\n",
    "1. bpid - (required) bpid for attachment (e.g. “uxcor”, “uxfr2”, or “uxsubsr”)\n",
    "2. project number - (required) shell number for attachment destination.\n",
    "3. record no - (required) record no for attachment destination.\n",
    "4. file path - (required) path to file to upload\n",
    "5. title - (optional) value for title column in attachments tab.\n",
    "6. issue date - (optional) value for issue date column in attachments tab."
   ]
  }
 ],
 "metadata": {
  "kernelspec": {
   "display_name": "Python 3",
   "language": "python",
   "name": "python3"
  },
  "language_info": {
   "codemirror_mode": {
    "name": "ipython",
    "version": 3
   },
   "file_extension": ".py",
   "mimetype": "text/x-python",
   "name": "python",
   "nbconvert_exporter": "python",
   "pygments_lexer": "ipython3",
   "version": "3.10.9"
  },
  "orig_nbformat": 4,
  "vscode": {
   "interpreter": {
    "hash": "04fc3e283a4b796cb9f0bb1a90644b03c857749538e166dee38e4061b2c2fb7e"
   }
  }
 },
 "nbformat": 4,
 "nbformat_minor": 2
}
