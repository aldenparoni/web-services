{
 "cells": [
  {
   "cell_type": "code",
   "execution_count": 25,
   "metadata": {
    "scrolled": true
   },
   "outputs": [],
   "source": [
    "import datetime as dt\n",
    "import os\n",
    "import pandas as pd\n",
    "import re\n",
    "import requests\n",
    "from datetime import datetime\n",
    "from pathlib import Path\n",
    "#os.chdir(r'C:\\users\\phamj\\OneDrive - Jacobs\\Desktop')\n",
    "\n",
    "index_csv_path = Path(r'C:\\Users\\alden.paroni\\unifier-requests\\index example - Copy.csv')\n",
    "disciplines_csv_path = Path(r'C:\\Users\\alden.paroni\\unifier-requests\\disciplines.csv')\n",
    "\n",
    "# Make sure the folder name containing the drawings matches the drawing set name.\n",
    "files_loc = r'C:\\Users\\alden.paroni\\Downloads\\CCUR IV Roadway'\n",
    "\n",
    "\n",
    "# this function generates a timestamp. returns string with no dashes/colons/periods\n",
    "def gen_ts():    \n",
    "    return datetime.now().isoformat().replace('-','').replace(':','').replace('.','')\n"
   ]
  },
  {
   "cell_type": "code",
   "execution_count": 26,
   "metadata": {
    "scrolled": true
   },
   "outputs": [],
   "source": [
    "env = 'prod'\n",
    "project_number = 'DBB511.2'"
   ]
  },
  {
   "cell_type": "markdown",
   "metadata": {},
   "source": [
    "Update the display settings in pandas"
   ]
  },
  {
   "cell_type": "code",
   "execution_count": 27,
   "metadata": {},
   "outputs": [],
   "source": [
    "pd.set_option('display.max_columns', None)\n",
    "pd.set_option('display.max_colwidth', None)"
   ]
  },
  {
   "cell_type": "markdown",
   "metadata": {},
   "source": [
    "Load the index into a df"
   ]
  },
  {
   "cell_type": "code",
   "execution_count": 28,
   "metadata": {},
   "outputs": [],
   "source": [
    "df = pd.read_csv(index_csv_path)"
   ]
  },
  {
   "cell_type": "markdown",
   "metadata": {},
   "source": [
    "Load the disciplines into a df"
   ]
  },
  {
   "cell_type": "code",
   "execution_count": 29,
   "metadata": {},
   "outputs": [],
   "source": [
    "disc = pd.read_csv(disciplines_csv_path)"
   ]
  },
  {
   "cell_type": "markdown",
   "metadata": {},
   "source": [
    "Load the directory contents into a df"
   ]
  },
  {
   "cell_type": "code",
   "execution_count": 30,
   "metadata": {},
   "outputs": [],
   "source": [
    "files = []\n",
    "directory_contents = list(Path(files_loc).rglob('*'))\n",
    "# pdf_paths is the paths to all pdfs in all subfolders\n",
    "pdf_paths = [p for p in directory_contents if p.suffix=='.pdf']\n",
    "\n",
    "for p in pdf_paths:\n",
    "    files.append({'folder': p.parent.name\n",
    "                , 'file': p.name\n",
    "                , 'file_path': str(p)\n",
    "        })\n",
    "# files = []\n",
    "# for folder in os.listdir():\n",
    "#     os.chdir(folder)\n",
    "#     for file in os.listdir():\n",
    "#         files.append({\n",
    "#             'folder': folder,\n",
    "#             'file': file,\n",
    "#             'file_path': os.path.abspath(file).replace('\\\\', '/'),\n",
    "#             'file_path': os.path.abspath(file)\n",
    "#         })\n",
    "#     os.chdir('..')\n",
    "\n",
    "files = pd.DataFrame(files)"
   ]
  },
  {
   "cell_type": "markdown",
   "metadata": {},
   "source": [
    "Extract the drawing number from the file"
   ]
  },
  {
   "cell_type": "code",
   "execution_count": 31,
   "metadata": {},
   "outputs": [],
   "source": [
    "files['drawing_number'] = files['file'].apply(\n",
    "    lambda s: re.sub(\n",
    "        pattern='.pdf',\n",
    "        repl='',\n",
    "        string=s,\n",
    "        flags=re.IGNORECASE\n",
    "    ).strip()\n",
    ")"
   ]
  },
  {
   "cell_type": "markdown",
   "metadata": {},
   "source": [
    "Join the index with the files df"
   ]
  },
  {
   "cell_type": "code",
   "execution_count": 32,
   "metadata": {},
   "outputs": [],
   "source": [
    "df = df.merge(\n",
    "    right=files.set_index(['folder', 'drawing_number']),\n",
    "    how='left',\n",
    "    left_on=['drawing_set', 'drawing_number'],\n",
    "    right_on=['folder', 'drawing_number']\n",
    ")"
   ]
  },
  {
   "cell_type": "markdown",
   "metadata": {},
   "source": [
    "Check if any files were unable to be located in the directory"
   ]
  },
  {
   "cell_type": "code",
   "execution_count": 33,
   "metadata": {},
   "outputs": [
    {
     "data": {
      "text/html": [
       "<div>\n",
       "<style scoped>\n",
       "    .dataframe tbody tr th:only-of-type {\n",
       "        vertical-align: middle;\n",
       "    }\n",
       "\n",
       "    .dataframe tbody tr th {\n",
       "        vertical-align: top;\n",
       "    }\n",
       "\n",
       "    .dataframe thead th {\n",
       "        text-align: right;\n",
       "    }\n",
       "</style>\n",
       "<table border=\"1\" class=\"dataframe\">\n",
       "  <thead>\n",
       "    <tr style=\"text-align: right;\">\n",
       "      <th></th>\n",
       "      <th>drawing_set</th>\n",
       "      <th>original_drawing_number</th>\n",
       "      <th>drawing_number</th>\n",
       "      <th>contractor_ref_number</th>\n",
       "      <th>discipline_code</th>\n",
       "      <th>drawing_phase</th>\n",
       "      <th>revision_number</th>\n",
       "      <th>title</th>\n",
       "      <th>file</th>\n",
       "      <th>file_path</th>\n",
       "    </tr>\n",
       "  </thead>\n",
       "  <tbody>\n",
       "  </tbody>\n",
       "</table>\n",
       "</div>"
      ],
      "text/plain": [
       "Empty DataFrame\n",
       "Columns: [drawing_set, original_drawing_number, drawing_number, contractor_ref_number, discipline_code, drawing_phase, revision_number, title, file, file_path]\n",
       "Index: []"
      ]
     },
     "execution_count": 33,
     "metadata": {},
     "output_type": "execute_result"
    }
   ],
   "source": [
    "# the output of this cell is ideally empty\n",
    "df[df['file'].isna()]"
   ]
  },
  {
   "cell_type": "markdown",
   "metadata": {},
   "source": [
    "Join the files with the index df"
   ]
  },
  {
   "cell_type": "code",
   "execution_count": 34,
   "metadata": {},
   "outputs": [],
   "source": [
    "temp = files.merge(\n",
    "    right=df,\n",
    "    left_on=['folder', 'drawing_number'],\n",
    "    right_on=['drawing_set', 'drawing_number'],\n",
    "    how='left'\n",
    ")"
   ]
  },
  {
   "cell_type": "markdown",
   "metadata": {},
   "source": [
    "Check if any files were unable to be located in the index"
   ]
  },
  {
   "cell_type": "code",
   "execution_count": 35,
   "metadata": {},
   "outputs": [
    {
     "data": {
      "text/html": [
       "<div>\n",
       "<style scoped>\n",
       "    .dataframe tbody tr th:only-of-type {\n",
       "        vertical-align: middle;\n",
       "    }\n",
       "\n",
       "    .dataframe tbody tr th {\n",
       "        vertical-align: top;\n",
       "    }\n",
       "\n",
       "    .dataframe thead th {\n",
       "        text-align: right;\n",
       "    }\n",
       "</style>\n",
       "<table border=\"1\" class=\"dataframe\">\n",
       "  <thead>\n",
       "    <tr style=\"text-align: right;\">\n",
       "      <th></th>\n",
       "      <th>folder</th>\n",
       "      <th>file</th>\n",
       "      <th>file_path</th>\n",
       "      <th>drawing_number</th>\n",
       "      <th>drawing_set</th>\n",
       "      <th>original_drawing_number</th>\n",
       "      <th>contractor_ref_number</th>\n",
       "      <th>discipline_code</th>\n",
       "      <th>drawing_phase</th>\n",
       "      <th>revision_number</th>\n",
       "      <th>title</th>\n",
       "    </tr>\n",
       "  </thead>\n",
       "  <tbody>\n",
       "  </tbody>\n",
       "</table>\n",
       "</div>"
      ],
      "text/plain": [
       "Empty DataFrame\n",
       "Columns: [folder, file, file_path, drawing_number, drawing_set, original_drawing_number, contractor_ref_number, discipline_code, drawing_phase, revision_number, title]\n",
       "Index: []"
      ]
     },
     "execution_count": 35,
     "metadata": {},
     "output_type": "execute_result"
    }
   ],
   "source": [
    "temp[temp['revision_number'].isna()].drop(\n",
    "    ['file_y', 'file_path_y'],\n",
    "    axis=1\n",
    ").rename(\n",
    "    mapper={'file_x': 'file', 'file_path_x': 'file_path'},\n",
    "    axis=1\n",
    ")"
   ]
  },
  {
   "cell_type": "markdown",
   "metadata": {},
   "source": [
    "Add the revised discipline code"
   ]
  },
  {
   "cell_type": "code",
   "execution_count": 36,
   "metadata": {},
   "outputs": [],
   "source": [
    "df['revised_discipline_code'] = df['discipline_code'].apply(\n",
    "    lambda s: s[0]\n",
    ")"
   ]
  },
  {
   "cell_type": "markdown",
   "metadata": {},
   "source": [
    "Add the discipline"
   ]
  },
  {
   "cell_type": "code",
   "execution_count": 37,
   "metadata": {},
   "outputs": [],
   "source": [
    "df = df.join(\n",
    "    other=disc[['code', 'discipline_upper']].set_index(keys=['code']),\n",
    "    on=['revised_discipline_code'],\n",
    "    how='left',\n",
    "    rsuffix='_b'\n",
    ")"
   ]
  },
  {
   "cell_type": "markdown",
   "metadata": {},
   "source": [
    "Update the title"
   ]
  },
  {
   "cell_type": "code",
   "execution_count": 38,
   "metadata": {},
   "outputs": [],
   "source": [
    "df['revised_title'] = df['title'].apply(\n",
    "    lambda s: s.title()\n",
    ")"
   ]
  },
  {
   "cell_type": "markdown",
   "metadata": {},
   "source": [
    "Check if the title is under 120 characters"
   ]
  },
  {
   "cell_type": "code",
   "execution_count": 39,
   "metadata": {},
   "outputs": [
    {
     "data": {
      "text/html": [
       "<div>\n",
       "<style scoped>\n",
       "    .dataframe tbody tr th:only-of-type {\n",
       "        vertical-align: middle;\n",
       "    }\n",
       "\n",
       "    .dataframe tbody tr th {\n",
       "        vertical-align: top;\n",
       "    }\n",
       "\n",
       "    .dataframe thead th {\n",
       "        text-align: right;\n",
       "    }\n",
       "</style>\n",
       "<table border=\"1\" class=\"dataframe\">\n",
       "  <thead>\n",
       "    <tr style=\"text-align: right;\">\n",
       "      <th></th>\n",
       "      <th>drawing_set</th>\n",
       "      <th>original_drawing_number</th>\n",
       "      <th>drawing_number</th>\n",
       "      <th>contractor_ref_number</th>\n",
       "      <th>discipline_code</th>\n",
       "      <th>drawing_phase</th>\n",
       "      <th>revision_number</th>\n",
       "      <th>title</th>\n",
       "      <th>file</th>\n",
       "      <th>file_path</th>\n",
       "      <th>revised_discipline_code</th>\n",
       "      <th>discipline_upper</th>\n",
       "      <th>revised_title</th>\n",
       "    </tr>\n",
       "  </thead>\n",
       "  <tbody>\n",
       "  </tbody>\n",
       "</table>\n",
       "</div>"
      ],
      "text/plain": [
       "Empty DataFrame\n",
       "Columns: [drawing_set, original_drawing_number, drawing_number, contractor_ref_number, discipline_code, drawing_phase, revision_number, title, file, file_path, revised_discipline_code, discipline_upper, revised_title]\n",
       "Index: []"
      ]
     },
     "execution_count": 39,
     "metadata": {},
     "output_type": "execute_result"
    }
   ],
   "source": [
    "df[df['revised_title'].str.len() > 120]"
   ]
  },
  {
   "cell_type": "markdown",
   "metadata": {},
   "source": [
    "Add columns"
   ]
  },
  {
   "cell_type": "code",
   "execution_count": 40,
   "metadata": {},
   "outputs": [],
   "source": [
    "df['project_number'] = project_number\n",
    "df['safety_impact'] = 'No'\n",
    "df['om_impact'] = 'No'\n",
    "df['quality_impact'] = 'No'\n",
    "df['row_impact'] = 'No'\n",
    "df['revision_record_no'] = None"
   ]
  },
  {
   "cell_type": "markdown",
   "metadata": {},
   "source": [
    "Sort the df"
   ]
  },
  {
   "cell_type": "code",
   "execution_count": 41,
   "metadata": {},
   "outputs": [],
   "source": [
    "df.sort_values(\n",
    "    by=['drawing_set', 'drawing_number'],\n",
    "    inplace=True\n",
    ")"
   ]
  },
  {
   "cell_type": "markdown",
   "metadata": {},
   "source": [
    "Set up logs"
   ]
  },
  {
   "cell_type": "code",
   "execution_count": 42,
   "metadata": {},
   "outputs": [],
   "source": [
    "from unifier_requests.ur import write_dicts_to_csv"
   ]
  },
  {
   "cell_type": "markdown",
   "metadata": {},
   "source": [
    "## Upload the drawing sets (SKIP THIS STEP FOR REVISIONS)\n"
   ]
  },
  {
   "cell_type": "code",
   "execution_count": 21,
   "metadata": {},
   "outputs": [
    {
     "name": "stdout",
     "output_type": "stream",
     "text": [
      "200 \n",
      "Success: CCUR IV Roadway\n"
     ]
    }
   ],
   "source": [
    "from unifier_requests.bplib import uxdrwset\n",
    "results = []\n",
    "x = uxdrwset(env = env, project_number = project_number)\n",
    "for row in df[['drawing_set', 'project_number']].drop_duplicates().itertuples():\n",
    "    data = {\n",
    "        'project_number': row.project_number,\n",
    "        'title': row.drawing_set\n",
    "    }        \n",
    "    res = x.create(data = data)\n",
    "    # res = req.create_record(\n",
    "    #     project_number=row.project_number,\n",
    "    #     bpname='Drawing Sets',\n",
    "    #     data=data\n",
    "    # )\n",
    "    results.append(res)\n",
    "    if res['status'] == 200:\n",
    "         print(f'Success: {row.drawing_set}')\n",
    "    else:\n",
    "         print(f'Error: {row.drawing_set}')"
   ]
  },
  {
   "cell_type": "markdown",
   "metadata": {},
   "source": [
    "Write the results to the log"
   ]
  },
  {
   "cell_type": "code",
   "execution_count": 37,
   "metadata": {},
   "outputs": [
    {
     "data": {
      "text/plain": [
       "WindowsPath('C:/Users/phamj/ureqlogs/uxdrwset_upload20230419T113232337214.csv')"
      ]
     },
     "execution_count": 37,
     "metadata": {},
     "output_type": "execute_result"
    }
   ],
   "source": [
    "#req.write_log(results)\n",
    "\n",
    "write_dicts_to_csv(input_dicts = results, name = 'uxdrwset_upload'+gen_ts())"
   ]
  },
  {
   "cell_type": "markdown",
   "metadata": {},
   "source": [
    "Upload the drawings (SKIP THIS STEP FOR REVISIONS)"
   ]
  },
  {
   "cell_type": "code",
   "execution_count": 22,
   "metadata": {},
   "outputs": [
    {
     "name": "stdout",
     "output_type": "stream",
     "text": [
      "200 \n",
      "Success: CCUR IV Roadway -> CCUR4-A03-GN0005R\n",
      "200 \n",
      "Success: CCUR IV Roadway -> CCUR4-C04-TR5372AR\n"
     ]
    }
   ],
   "source": [
    "from unifier_requests.bplib import uxdrw\n",
    "results = []\n",
    "x = uxdrw(env = env, project_number = project_number)\n",
    "for row in df[[\n",
    "    'contractor_ref_number',\n",
    "    'discipline_upper',\n",
    "    'drawing_number',\n",
    "    'drawing_set',\n",
    "    'om_impact',\n",
    "    'project_number',\n",
    "    'quality_impact',\n",
    "    'revised_title',\n",
    "    'row_impact',\n",
    "    'safety_impact'\n",
    "]].itertuples():\n",
    "    data = {\n",
    "        'draDrawingSetsDPK': row.drawing_set,\n",
    "        'draDrawingSetsTB250': row.drawing_set,\n",
    "        'genCtrRefNoTB100': row.contractor_ref_number,\n",
    "        'project_number': row.project_number,\n",
    "        'subpomimpactrb': row.om_impact,\n",
    "        'subpqualityimpactrb': row.quality_impact,\n",
    "        'subprowrb': row.row_impact,\n",
    "        'subpsafetyimpactrb': row.safety_impact,\n",
    "        'udrDrawingNoTB120': row.drawing_number,\n",
    "        'udrDrawingTitleTB120': row.revised_title,\n",
    "        'ugenDiscipline': row.discipline_upper\n",
    "    }    \n",
    "    res = x.create(data = data)\n",
    "    # res = req.create_record(\n",
    "    #     project_number=row.project_number,\n",
    "    #     bpname='Drawings',\n",
    "    #     data=data\n",
    "    # )\n",
    "    results.append(res)\n",
    "    if res['status'] == 200:\n",
    "        print(f'Success: {row.drawing_set} -> {row.drawing_number}')\n",
    "    else:\n",
    "        print(f'Error: {row.drawing_set} -> {row.drawing_number}')"
   ]
  },
  {
   "cell_type": "markdown",
   "metadata": {},
   "source": [
    "Write the results to the log"
   ]
  },
  {
   "cell_type": "code",
   "execution_count": 149,
   "metadata": {},
   "outputs": [
    {
     "data": {
      "text/plain": [
       "WindowsPath('C:/Users/phamj/ureqlogs/uxdrw_upload20230503T144551735154.csv')"
      ]
     },
     "execution_count": 149,
     "metadata": {},
     "output_type": "execute_result"
    }
   ],
   "source": [
    "write_dicts_to_csv(input_dicts = results, name = 'uxdrw_upload'+gen_ts())\n",
    "#req.write_log(results)"
   ]
  },
  {
   "cell_type": "markdown",
   "metadata": {},
   "source": [
    "Upload the drawing revisions"
   ]
  },
  {
   "cell_type": "code",
   "execution_count": 43,
   "metadata": {},
   "outputs": [
    {
     "name": "stdout",
     "output_type": "stream",
     "text": [
      "200 \n",
      "Success: CCUR IV Roadway -> CCUR4-A03-GN0005R\n",
      "200 \n",
      "Success: CCUR IV Roadway -> CCUR4-C04-TR5372AR\n"
     ]
    }
   ],
   "source": [
    "from unifier_requests.bplib import uxdrwrev\n",
    "results = []\n",
    "x = uxdrwrev(env = env, project_number = project_number)\n",
    "for row in df[[\n",
    "    'drawing_number',\n",
    "    'drawing_phase',\n",
    "    'drawing_set',\n",
    "    'project_number',\n",
    "    'revision_number'\n",
    "]].itertuples():\n",
    "    data = {\n",
    "        'project_number': row.project_number,\n",
    "        'udrDrawingNoTB120': row.drawing_number,\n",
    "        'udrDrawingPhaseDP': row.drawing_phase,\n",
    "        'udrawDrawingBP': row.drawing_number,\n",
    "        'udrawRevNoBP': row.revision_number\n",
    "    }    \n",
    "    res = x.create(data)\n",
    "    # res = req.create_record(\n",
    "    #     project_number=row.project_number,\n",
    "    #     bpname='Drawing Revisions',\n",
    "    #     data=data\n",
    "    # )\n",
    "    results.append(res)\n",
    "    if res['status'] == 200:\n",
    "        print(f'Success: {row.drawing_set} -> {row.drawing_number}')\n",
    "    else:\n",
    "        print(f'Error: {row.drawing_set} -> {row.drawing_number}')\n",
    "    try:\n",
    "        df.at[row.Index, 'revision_record_no'] = res['message'][0]['record_no']\n",
    "    except:\n",
    "        pass"
   ]
  },
  {
   "cell_type": "markdown",
   "metadata": {},
   "source": [
    "Write the results to the log"
   ]
  },
  {
   "cell_type": "code",
   "execution_count": 21,
   "metadata": {},
   "outputs": [
    {
     "data": {
      "text/plain": [
       "WindowsPath('C:/Users/phamj/ureqlogs/uxdrwrev_upload20230510T142422142428.csv')"
      ]
     },
     "execution_count": 21,
     "metadata": {},
     "output_type": "execute_result"
    }
   ],
   "source": [
    "write_dicts_to_csv(input_dicts = results, name = 'uxdrwrev_upload'+gen_ts())\n",
    "#req.write_log(results)"
   ]
  },
  {
   "cell_type": "markdown",
   "metadata": {},
   "source": [
    "Upload drawing revision attachments"
   ]
  },
  {
   "cell_type": "code",
   "execution_count": 44,
   "metadata": {},
   "outputs": [
    {
     "name": "stdout",
     "output_type": "stream",
     "text": [
      "200 \n",
      "Success: CCUR IV Roadway -> CCUR4-A03-GN0005R\n",
      "200 \n",
      "Success: CCUR IV Roadway -> CCUR4-C04-TR5372AR\n"
     ]
    }
   ],
   "source": [
    "from unifier_requests.ur_bp_attach import bp_attach\n",
    "bpid = 'uxdrwrev'\n",
    "results = []\n",
    "for row in df[[\n",
    "    'drawing_number',\n",
    "    'drawing_set',\n",
    "    'file_path',\n",
    "    'project_number',\n",
    "    'revision_record_no'\n",
    "]].itertuples():\n",
    "    \n",
    "    res = bp_attach(env = env\n",
    "                , bpid = bpid\n",
    "                , project_number = row.project_number\n",
    "                , record_no = row.revision_record_no\n",
    "                , file_path = row.file_path)\n",
    "    # res = req.update_record_attachment(\n",
    "    #     project_number=row.project_number,\n",
    "    #     bpname='Drawing Revisions',\n",
    "    #     record_no=row.revision_record_no,\n",
    "    #     file_name=row.file_path\n",
    "    # )\n",
    "    results.append(res)\n",
    "    if res['status'] == 200:\n",
    "        print(f'Success: {row.drawing_set} -> {row.drawing_number}')\n",
    "    else:\n",
    "        print(f'Error: {row.drawing_set} -> {row.drawing_number}')\n",
    " "
   ]
  },
  {
   "cell_type": "markdown",
   "metadata": {},
   "source": [
    "Write the results to the log"
   ]
  },
  {
   "cell_type": "code",
   "execution_count": 23,
   "metadata": {},
   "outputs": [
    {
     "data": {
      "text/plain": [
       "WindowsPath('C:/Users/phamj/ureqlogs/drawing_revisions_upper_form_drawing_revision_attachments_20230510T143724275381.csv')"
      ]
     },
     "execution_count": 23,
     "metadata": {},
     "output_type": "execute_result"
    }
   ],
   "source": [
    "write_dicts_to_csv(input_dicts = results, name = f'drawing_revisions_upper_form_drawing_revision_attachments_{gen_ts()}')\n",
    "#req.write_log(results)"
   ]
  }
 ],
 "metadata": {
  "kernelspec": {
   "display_name": "Python 3 (ipykernel)",
   "language": "python",
   "name": "python3"
  },
  "language_info": {
   "codemirror_mode": {
    "name": "ipython",
    "version": 3
   },
   "file_extension": ".py",
   "mimetype": "text/x-python",
   "name": "python",
   "nbconvert_exporter": "python",
   "pygments_lexer": "ipython3",
   "version": "3.10.9"
  },
  "vscode": {
   "interpreter": {
    "hash": "26de051ba29f2982a8de78e945f0abaf191376122a1563185a90213a26c5da77"
   }
  }
 },
 "nbformat": 4,
 "nbformat_minor": 2
}
