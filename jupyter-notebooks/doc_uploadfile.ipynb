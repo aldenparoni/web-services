{
 "cells": [
  {
   "cell_type": "code",
   "execution_count": null,
   "metadata": {},
   "outputs": [],
   "source": [
    "%pip install requests-toolbelt"
   ]
  },
  {
   "cell_type": "code",
   "execution_count": null,
   "metadata": {},
   "outputs": [],
   "source": [
    "\n",
    "from unifier_requests.dmlib import DM\n",
    "from pathlib import Path\n",
    "\n",
    "env = 'prod'\n",
    "project_number = 'tca'\n",
    "file_path = r'C:\\Users\\alden.paroni\\Downloads\\BOM_EXPLOSION_0020597(8).zip'\n",
    "x = DM(env = env, project_number = project_number)\n",
    "\n",
    "x.upload(file_path = file_path\n",
    ", Path = '/Rail/Capital Assets/West Project Segment/CSC/PV/Drawings'\n",
    ", dorevise = 'yes'\n",
    ", timeout = 3)\n",
    "\n"
   ]
  }
 ],
 "metadata": {
  "kernelspec": {
   "display_name": "Python 3",
   "language": "python",
   "name": "python3"
  },
  "language_info": {
   "codemirror_mode": {
    "name": "ipython",
    "version": 3
   },
   "file_extension": ".py",
   "mimetype": "text/x-python",
   "name": "python",
   "nbconvert_exporter": "python",
   "pygments_lexer": "ipython3",
   "version": "3.11.3"
  },
  "orig_nbformat": 4
 },
 "nbformat": 4,
 "nbformat_minor": 2
}
